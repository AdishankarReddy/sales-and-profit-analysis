{
 "cells": [
  {
   "cell_type": "markdown",
   "id": "1d5e44be",
   "metadata": {},
   "source": [
    "# Store Sales and Profit Analysis using Python \n",
    "Problem Statement Store sales and profit analysis help businesses identify areas for improvement and make data-driven decisions to optimize their operations, pricing, marketing, and inventory management stratagies to drive revenue and growth.I hope you liked this project on the task of analyzing the sales and profit of a store using python\n",
    "# Import Library"
   ]
  },
  {
   "cell_type": "code",
   "execution_count": 208,
   "id": "bf96c9c7",
   "metadata": {},
   "outputs": [],
   "source": [
    "import pandas as pd\n",
    "import seaborn as sns"
   ]
  },
  {
   "cell_type": "code",
   "execution_count": 63,
   "id": "05374039",
   "metadata": {},
   "outputs": [],
   "source": [
    "df=pd.read_excel(\"C:\\\\Users\\\\shankar\\\\Documents\\\\data analytics data sets\\\\superstore_sales.xlsx\")"
   ]
  },
  {
   "cell_type": "code",
   "execution_count": 49,
   "id": "0483449e",
   "metadata": {},
   "outputs": [
    {
     "data": {
      "text/html": [
       "<div>\n",
       "<style scoped>\n",
       "    .dataframe tbody tr th:only-of-type {\n",
       "        vertical-align: middle;\n",
       "    }\n",
       "\n",
       "    .dataframe tbody tr th {\n",
       "        vertical-align: top;\n",
       "    }\n",
       "\n",
       "    .dataframe thead th {\n",
       "        text-align: right;\n",
       "    }\n",
       "</style>\n",
       "<table border=\"1\" class=\"dataframe\">\n",
       "  <thead>\n",
       "    <tr style=\"text-align: right;\">\n",
       "      <th></th>\n",
       "      <th>order_id</th>\n",
       "      <th>order_date</th>\n",
       "      <th>ship_date</th>\n",
       "      <th>ship_mode</th>\n",
       "      <th>customer_name</th>\n",
       "      <th>segment</th>\n",
       "      <th>state</th>\n",
       "      <th>country</th>\n",
       "      <th>market</th>\n",
       "      <th>region</th>\n",
       "      <th>...</th>\n",
       "      <th>category</th>\n",
       "      <th>sub_category</th>\n",
       "      <th>product_name</th>\n",
       "      <th>sales</th>\n",
       "      <th>quantity</th>\n",
       "      <th>discount</th>\n",
       "      <th>profit</th>\n",
       "      <th>shipping_cost</th>\n",
       "      <th>order_priority</th>\n",
       "      <th>year</th>\n",
       "    </tr>\n",
       "  </thead>\n",
       "  <tbody>\n",
       "    <tr>\n",
       "      <th>51285</th>\n",
       "      <td>CA-2014-115427</td>\n",
       "      <td>2014-12-31</td>\n",
       "      <td>2015-01-04</td>\n",
       "      <td>Standard Class</td>\n",
       "      <td>Erica Bern</td>\n",
       "      <td>Corporate</td>\n",
       "      <td>California</td>\n",
       "      <td>United States</td>\n",
       "      <td>US</td>\n",
       "      <td>West</td>\n",
       "      <td>...</td>\n",
       "      <td>Office Supplies</td>\n",
       "      <td>Binders</td>\n",
       "      <td>Cardinal Slant-D Ring Binder, Heavy Gauge Vinyl</td>\n",
       "      <td>13.904</td>\n",
       "      <td>2</td>\n",
       "      <td>0.2</td>\n",
       "      <td>4.5188</td>\n",
       "      <td>0.890</td>\n",
       "      <td>Medium</td>\n",
       "      <td>2014</td>\n",
       "    </tr>\n",
       "    <tr>\n",
       "      <th>51286</th>\n",
       "      <td>MO-2014-2560</td>\n",
       "      <td>2014-12-31</td>\n",
       "      <td>2015-01-05</td>\n",
       "      <td>Standard Class</td>\n",
       "      <td>Liz Preis</td>\n",
       "      <td>Consumer</td>\n",
       "      <td>Souss-Massa-Draâ</td>\n",
       "      <td>Morocco</td>\n",
       "      <td>Africa</td>\n",
       "      <td>Africa</td>\n",
       "      <td>...</td>\n",
       "      <td>Office Supplies</td>\n",
       "      <td>Binders</td>\n",
       "      <td>Wilson Jones Hole Reinforcements, Clear</td>\n",
       "      <td>3.990</td>\n",
       "      <td>1</td>\n",
       "      <td>0.0</td>\n",
       "      <td>0.4200</td>\n",
       "      <td>0.490</td>\n",
       "      <td>Medium</td>\n",
       "      <td>2014</td>\n",
       "    </tr>\n",
       "    <tr>\n",
       "      <th>51287</th>\n",
       "      <td>MX-2014-110527</td>\n",
       "      <td>2014-12-31</td>\n",
       "      <td>2015-01-02</td>\n",
       "      <td>Second Class</td>\n",
       "      <td>Charlotte Melton</td>\n",
       "      <td>Consumer</td>\n",
       "      <td>Managua</td>\n",
       "      <td>Nicaragua</td>\n",
       "      <td>LATAM</td>\n",
       "      <td>Central</td>\n",
       "      <td>...</td>\n",
       "      <td>Office Supplies</td>\n",
       "      <td>Labels</td>\n",
       "      <td>Hon Color Coded Labels, 5000 Label Set</td>\n",
       "      <td>26.400</td>\n",
       "      <td>3</td>\n",
       "      <td>0.0</td>\n",
       "      <td>12.3600</td>\n",
       "      <td>0.350</td>\n",
       "      <td>Medium</td>\n",
       "      <td>2014</td>\n",
       "    </tr>\n",
       "    <tr>\n",
       "      <th>51288</th>\n",
       "      <td>MX-2014-114783</td>\n",
       "      <td>2014-12-31</td>\n",
       "      <td>2015-01-06</td>\n",
       "      <td>Standard Class</td>\n",
       "      <td>Tamara Dahlen</td>\n",
       "      <td>Consumer</td>\n",
       "      <td>Chihuahua</td>\n",
       "      <td>Mexico</td>\n",
       "      <td>LATAM</td>\n",
       "      <td>North</td>\n",
       "      <td>...</td>\n",
       "      <td>Office Supplies</td>\n",
       "      <td>Labels</td>\n",
       "      <td>Hon Legal Exhibit Labels, Alphabetical</td>\n",
       "      <td>7.120</td>\n",
       "      <td>1</td>\n",
       "      <td>0.0</td>\n",
       "      <td>0.5600</td>\n",
       "      <td>0.199</td>\n",
       "      <td>Medium</td>\n",
       "      <td>2014</td>\n",
       "    </tr>\n",
       "    <tr>\n",
       "      <th>51289</th>\n",
       "      <td>CA-2014-156720</td>\n",
       "      <td>2014-12-31</td>\n",
       "      <td>2015-01-04</td>\n",
       "      <td>Standard Class</td>\n",
       "      <td>Jill Matthias</td>\n",
       "      <td>Consumer</td>\n",
       "      <td>Colorado</td>\n",
       "      <td>United States</td>\n",
       "      <td>US</td>\n",
       "      <td>West</td>\n",
       "      <td>...</td>\n",
       "      <td>Office Supplies</td>\n",
       "      <td>Fasteners</td>\n",
       "      <td>Bagged Rubber Bands</td>\n",
       "      <td>3.024</td>\n",
       "      <td>3</td>\n",
       "      <td>0.2</td>\n",
       "      <td>-0.6048</td>\n",
       "      <td>0.170</td>\n",
       "      <td>Medium</td>\n",
       "      <td>2014</td>\n",
       "    </tr>\n",
       "  </tbody>\n",
       "</table>\n",
       "<p>5 rows × 21 columns</p>\n",
       "</div>"
      ],
      "text/plain": [
       "             order_id order_date  ship_date       ship_mode     customer_name  \\\n",
       "51285  CA-2014-115427 2014-12-31 2015-01-04  Standard Class        Erica Bern   \n",
       "51286    MO-2014-2560 2014-12-31 2015-01-05  Standard Class         Liz Preis   \n",
       "51287  MX-2014-110527 2014-12-31 2015-01-02    Second Class  Charlotte Melton   \n",
       "51288  MX-2014-114783 2014-12-31 2015-01-06  Standard Class     Tamara Dahlen   \n",
       "51289  CA-2014-156720 2014-12-31 2015-01-04  Standard Class     Jill Matthias   \n",
       "\n",
       "         segment             state        country  market   region  ...  \\\n",
       "51285  Corporate        California  United States      US     West  ...   \n",
       "51286   Consumer  Souss-Massa-Draâ        Morocco  Africa   Africa  ...   \n",
       "51287   Consumer           Managua      Nicaragua   LATAM  Central  ...   \n",
       "51288   Consumer         Chihuahua         Mexico   LATAM    North  ...   \n",
       "51289   Consumer          Colorado  United States      US     West  ...   \n",
       "\n",
       "              category sub_category  \\\n",
       "51285  Office Supplies      Binders   \n",
       "51286  Office Supplies      Binders   \n",
       "51287  Office Supplies       Labels   \n",
       "51288  Office Supplies       Labels   \n",
       "51289  Office Supplies    Fasteners   \n",
       "\n",
       "                                          product_name   sales  quantity  \\\n",
       "51285  Cardinal Slant-D Ring Binder, Heavy Gauge Vinyl  13.904         2   \n",
       "51286          Wilson Jones Hole Reinforcements, Clear   3.990         1   \n",
       "51287           Hon Color Coded Labels, 5000 Label Set  26.400         3   \n",
       "51288           Hon Legal Exhibit Labels, Alphabetical   7.120         1   \n",
       "51289                              Bagged Rubber Bands   3.024         3   \n",
       "\n",
       "       discount   profit  shipping_cost  order_priority  year  \n",
       "51285       0.2   4.5188          0.890          Medium  2014  \n",
       "51286       0.0   0.4200          0.490          Medium  2014  \n",
       "51287       0.0  12.3600          0.350          Medium  2014  \n",
       "51288       0.0   0.5600          0.199          Medium  2014  \n",
       "51289       0.2  -0.6048          0.170          Medium  2014  \n",
       "\n",
       "[5 rows x 21 columns]"
      ]
     },
     "execution_count": 49,
     "metadata": {},
     "output_type": "execute_result"
    }
   ],
   "source": [
    "df.tail()"
   ]
  },
  {
   "cell_type": "code",
   "execution_count": 50,
   "id": "986d07cc",
   "metadata": {},
   "outputs": [
    {
     "data": {
      "text/plain": [
       "(51290, 21)"
      ]
     },
     "execution_count": 50,
     "metadata": {},
     "output_type": "execute_result"
    }
   ],
   "source": [
    "df.shape"
   ]
  },
  {
   "cell_type": "code",
   "execution_count": 51,
   "id": "2adf0b20",
   "metadata": {},
   "outputs": [
    {
     "data": {
      "text/plain": [
       "Index(['order_id', 'order_date', 'ship_date', 'ship_mode', 'customer_name',\n",
       "       'segment', 'state', 'country', 'market', 'region', 'product_id',\n",
       "       'category', 'sub_category', 'product_name', 'sales', 'quantity',\n",
       "       'discount', 'profit', 'shipping_cost', 'order_priority', 'year'],\n",
       "      dtype='object')"
      ]
     },
     "execution_count": 51,
     "metadata": {},
     "output_type": "execute_result"
    }
   ],
   "source": [
    "df.columns"
   ]
  },
  {
   "cell_type": "code",
   "execution_count": 52,
   "id": "bf825a86",
   "metadata": {},
   "outputs": [
    {
     "data": {
      "text/plain": [
       "0        Office Supplies\n",
       "1        Office Supplies\n",
       "2        Office Supplies\n",
       "3        Office Supplies\n",
       "4              Furniture\n",
       "              ...       \n",
       "51285    Office Supplies\n",
       "51286    Office Supplies\n",
       "51287    Office Supplies\n",
       "51288    Office Supplies\n",
       "51289    Office Supplies\n",
       "Name: category, Length: 51290, dtype: object"
      ]
     },
     "execution_count": 52,
     "metadata": {},
     "output_type": "execute_result"
    }
   ],
   "source": [
    "df['category']"
   ]
  },
  {
   "cell_type": "code",
   "execution_count": 53,
   "id": "7e9d7023",
   "metadata": {},
   "outputs": [
    {
     "data": {
      "text/plain": [
       "order_id                  object\n",
       "order_date        datetime64[ns]\n",
       "ship_date         datetime64[ns]\n",
       "ship_mode                 object\n",
       "customer_name             object\n",
       "segment                   object\n",
       "state                     object\n",
       "country                   object\n",
       "market                    object\n",
       "region                    object\n",
       "product_id                object\n",
       "category                  object\n",
       "sub_category              object\n",
       "product_name              object\n",
       "sales                    float64\n",
       "quantity                   int64\n",
       "discount                 float64\n",
       "profit                   float64\n",
       "shipping_cost            float64\n",
       "order_priority            object\n",
       "year                       int64\n",
       "dtype: object"
      ]
     },
     "execution_count": 53,
     "metadata": {},
     "output_type": "execute_result"
    }
   ],
   "source": [
    "df.dtypes"
   ]
  },
  {
   "cell_type": "code",
   "execution_count": 54,
   "id": "f260fbab",
   "metadata": {},
   "outputs": [
    {
     "data": {
      "text/plain": [
       "array(['Office Supplies', 'Furniture', 'Technology'], dtype=object)"
      ]
     },
     "execution_count": 54,
     "metadata": {},
     "output_type": "execute_result"
    }
   ],
   "source": [
    "df['category'].unique()"
   ]
  },
  {
   "cell_type": "code",
   "execution_count": 55,
   "id": "ca4a6631",
   "metadata": {},
   "outputs": [
    {
     "data": {
      "text/plain": [
       "147"
      ]
     },
     "execution_count": 55,
     "metadata": {},
     "output_type": "execute_result"
    }
   ],
   "source": [
    "df['country'].nunique()"
   ]
  },
  {
   "cell_type": "code",
   "execution_count": 56,
   "id": "0cd92b50",
   "metadata": {},
   "outputs": [
    {
     "data": {
      "text/plain": [
       "order_id          25035\n",
       "order_date         1430\n",
       "ship_date          1464\n",
       "ship_mode             4\n",
       "customer_name       795\n",
       "segment               3\n",
       "state              1094\n",
       "country             147\n",
       "market                7\n",
       "region               13\n",
       "product_id        10292\n",
       "category              3\n",
       "sub_category         17\n",
       "product_name       3788\n",
       "sales             27200\n",
       "quantity             14\n",
       "discount             29\n",
       "profit            28234\n",
       "shipping_cost     17095\n",
       "order_priority        4\n",
       "year                  4\n",
       "dtype: int64"
      ]
     },
     "execution_count": 56,
     "metadata": {},
     "output_type": "execute_result"
    }
   ],
   "source": [
    "df.nunique()"
   ]
  },
  {
   "cell_type": "code",
   "execution_count": 57,
   "id": "c60629dc",
   "metadata": {},
   "outputs": [
    {
     "data": {
      "text/plain": [
       "array([2011, 2012, 2013, 2014], dtype=int64)"
      ]
     },
     "execution_count": 57,
     "metadata": {},
     "output_type": "execute_result"
    }
   ],
   "source": [
    "df['year'].unique()"
   ]
  },
  {
   "cell_type": "code",
   "execution_count": 58,
   "id": "da815af3",
   "metadata": {},
   "outputs": [
    {
     "data": {
      "text/plain": [
       "array(['Medium', 'High', 'Critical', 'Low'], dtype=object)"
      ]
     },
     "execution_count": 58,
     "metadata": {},
     "output_type": "execute_result"
    }
   ],
   "source": [
    "df['order_priority'].unique()"
   ]
  },
  {
   "cell_type": "code",
   "execution_count": 59,
   "id": "7f52caa5",
   "metadata": {},
   "outputs": [
    {
     "data": {
      "text/html": [
       "<div>\n",
       "<style scoped>\n",
       "    .dataframe tbody tr th:only-of-type {\n",
       "        vertical-align: middle;\n",
       "    }\n",
       "\n",
       "    .dataframe tbody tr th {\n",
       "        vertical-align: top;\n",
       "    }\n",
       "\n",
       "    .dataframe thead th {\n",
       "        text-align: right;\n",
       "    }\n",
       "</style>\n",
       "<table border=\"1\" class=\"dataframe\">\n",
       "  <thead>\n",
       "    <tr style=\"text-align: right;\">\n",
       "      <th></th>\n",
       "      <th>sales</th>\n",
       "      <th>quantity</th>\n",
       "      <th>discount</th>\n",
       "      <th>profit</th>\n",
       "      <th>shipping_cost</th>\n",
       "      <th>year</th>\n",
       "    </tr>\n",
       "  </thead>\n",
       "  <tbody>\n",
       "    <tr>\n",
       "      <th>count</th>\n",
       "      <td>51290.000000</td>\n",
       "      <td>51290.000000</td>\n",
       "      <td>51290.000000</td>\n",
       "      <td>51290.000000</td>\n",
       "      <td>51290.000000</td>\n",
       "      <td>51290.000000</td>\n",
       "    </tr>\n",
       "    <tr>\n",
       "      <th>mean</th>\n",
       "      <td>246.490581</td>\n",
       "      <td>3.476545</td>\n",
       "      <td>0.142908</td>\n",
       "      <td>28.641740</td>\n",
       "      <td>26.375818</td>\n",
       "      <td>2012.777208</td>\n",
       "    </tr>\n",
       "    <tr>\n",
       "      <th>std</th>\n",
       "      <td>487.565361</td>\n",
       "      <td>2.278766</td>\n",
       "      <td>0.212280</td>\n",
       "      <td>174.424113</td>\n",
       "      <td>57.296810</td>\n",
       "      <td>1.098931</td>\n",
       "    </tr>\n",
       "    <tr>\n",
       "      <th>min</th>\n",
       "      <td>0.444000</td>\n",
       "      <td>1.000000</td>\n",
       "      <td>0.000000</td>\n",
       "      <td>-6599.978000</td>\n",
       "      <td>0.002000</td>\n",
       "      <td>2011.000000</td>\n",
       "    </tr>\n",
       "    <tr>\n",
       "      <th>25%</th>\n",
       "      <td>30.758625</td>\n",
       "      <td>2.000000</td>\n",
       "      <td>0.000000</td>\n",
       "      <td>0.000000</td>\n",
       "      <td>2.610000</td>\n",
       "      <td>2012.000000</td>\n",
       "    </tr>\n",
       "    <tr>\n",
       "      <th>50%</th>\n",
       "      <td>85.053000</td>\n",
       "      <td>3.000000</td>\n",
       "      <td>0.000000</td>\n",
       "      <td>9.240000</td>\n",
       "      <td>7.790000</td>\n",
       "      <td>2013.000000</td>\n",
       "    </tr>\n",
       "    <tr>\n",
       "      <th>75%</th>\n",
       "      <td>251.053200</td>\n",
       "      <td>5.000000</td>\n",
       "      <td>0.200000</td>\n",
       "      <td>36.810000</td>\n",
       "      <td>24.450000</td>\n",
       "      <td>2014.000000</td>\n",
       "    </tr>\n",
       "    <tr>\n",
       "      <th>max</th>\n",
       "      <td>22638.480000</td>\n",
       "      <td>14.000000</td>\n",
       "      <td>0.850000</td>\n",
       "      <td>8399.976000</td>\n",
       "      <td>933.570000</td>\n",
       "      <td>2014.000000</td>\n",
       "    </tr>\n",
       "  </tbody>\n",
       "</table>\n",
       "</div>"
      ],
      "text/plain": [
       "              sales      quantity      discount        profit  shipping_cost  \\\n",
       "count  51290.000000  51290.000000  51290.000000  51290.000000   51290.000000   \n",
       "mean     246.490581      3.476545      0.142908     28.641740      26.375818   \n",
       "std      487.565361      2.278766      0.212280    174.424113      57.296810   \n",
       "min        0.444000      1.000000      0.000000  -6599.978000       0.002000   \n",
       "25%       30.758625      2.000000      0.000000      0.000000       2.610000   \n",
       "50%       85.053000      3.000000      0.000000      9.240000       7.790000   \n",
       "75%      251.053200      5.000000      0.200000     36.810000      24.450000   \n",
       "max    22638.480000     14.000000      0.850000   8399.976000     933.570000   \n",
       "\n",
       "               year  \n",
       "count  51290.000000  \n",
       "mean    2012.777208  \n",
       "std        1.098931  \n",
       "min     2011.000000  \n",
       "25%     2012.000000  \n",
       "50%     2013.000000  \n",
       "75%     2014.000000  \n",
       "max     2014.000000  "
      ]
     },
     "execution_count": 59,
     "metadata": {},
     "output_type": "execute_result"
    }
   ],
   "source": [
    "df.describe()"
   ]
  },
  {
   "cell_type": "code",
   "execution_count": 60,
   "id": "c26fd0d6",
   "metadata": {},
   "outputs": [
    {
     "data": {
      "text/plain": [
       "Office Supplies    31273\n",
       "Technology         10141\n",
       "Furniture           9876\n",
       "Name: category, dtype: int64"
      ]
     },
     "execution_count": 60,
     "metadata": {},
     "output_type": "execute_result"
    }
   ],
   "source": [
    "df['category'].value_counts()"
   ]
  },
  {
   "cell_type": "code",
   "execution_count": 62,
   "id": "0bcd1f71",
   "metadata": {},
   "outputs": [
    {
     "data": {
      "text/html": [
       "<div>\n",
       "<style scoped>\n",
       "    .dataframe tbody tr th:only-of-type {\n",
       "        vertical-align: middle;\n",
       "    }\n",
       "\n",
       "    .dataframe tbody tr th {\n",
       "        vertical-align: top;\n",
       "    }\n",
       "\n",
       "    .dataframe thead th {\n",
       "        text-align: right;\n",
       "    }\n",
       "</style>\n",
       "<table border=\"1\" class=\"dataframe\">\n",
       "  <thead>\n",
       "    <tr style=\"text-align: right;\">\n",
       "      <th></th>\n",
       "      <th>order_id</th>\n",
       "      <th>order_date</th>\n",
       "      <th>ship_date</th>\n",
       "      <th>ship_mode</th>\n",
       "      <th>customer_name</th>\n",
       "      <th>segment</th>\n",
       "      <th>state</th>\n",
       "      <th>country</th>\n",
       "      <th>market</th>\n",
       "      <th>region</th>\n",
       "      <th>...</th>\n",
       "      <th>category</th>\n",
       "      <th>sub_category</th>\n",
       "      <th>product_name</th>\n",
       "      <th>sales</th>\n",
       "      <th>quantity</th>\n",
       "      <th>discount</th>\n",
       "      <th>profit</th>\n",
       "      <th>shipping_cost</th>\n",
       "      <th>order_priority</th>\n",
       "      <th>year</th>\n",
       "    </tr>\n",
       "  </thead>\n",
       "  <tbody>\n",
       "    <tr>\n",
       "      <th>0</th>\n",
       "      <td>False</td>\n",
       "      <td>False</td>\n",
       "      <td>False</td>\n",
       "      <td>False</td>\n",
       "      <td>False</td>\n",
       "      <td>False</td>\n",
       "      <td>False</td>\n",
       "      <td>False</td>\n",
       "      <td>False</td>\n",
       "      <td>False</td>\n",
       "      <td>...</td>\n",
       "      <td>False</td>\n",
       "      <td>False</td>\n",
       "      <td>False</td>\n",
       "      <td>False</td>\n",
       "      <td>False</td>\n",
       "      <td>False</td>\n",
       "      <td>False</td>\n",
       "      <td>False</td>\n",
       "      <td>False</td>\n",
       "      <td>False</td>\n",
       "    </tr>\n",
       "    <tr>\n",
       "      <th>1</th>\n",
       "      <td>False</td>\n",
       "      <td>False</td>\n",
       "      <td>False</td>\n",
       "      <td>False</td>\n",
       "      <td>False</td>\n",
       "      <td>False</td>\n",
       "      <td>False</td>\n",
       "      <td>False</td>\n",
       "      <td>False</td>\n",
       "      <td>False</td>\n",
       "      <td>...</td>\n",
       "      <td>False</td>\n",
       "      <td>False</td>\n",
       "      <td>False</td>\n",
       "      <td>False</td>\n",
       "      <td>False</td>\n",
       "      <td>False</td>\n",
       "      <td>False</td>\n",
       "      <td>False</td>\n",
       "      <td>False</td>\n",
       "      <td>False</td>\n",
       "    </tr>\n",
       "    <tr>\n",
       "      <th>2</th>\n",
       "      <td>False</td>\n",
       "      <td>False</td>\n",
       "      <td>False</td>\n",
       "      <td>False</td>\n",
       "      <td>False</td>\n",
       "      <td>False</td>\n",
       "      <td>False</td>\n",
       "      <td>False</td>\n",
       "      <td>False</td>\n",
       "      <td>False</td>\n",
       "      <td>...</td>\n",
       "      <td>False</td>\n",
       "      <td>False</td>\n",
       "      <td>False</td>\n",
       "      <td>False</td>\n",
       "      <td>False</td>\n",
       "      <td>False</td>\n",
       "      <td>False</td>\n",
       "      <td>False</td>\n",
       "      <td>False</td>\n",
       "      <td>False</td>\n",
       "    </tr>\n",
       "    <tr>\n",
       "      <th>3</th>\n",
       "      <td>False</td>\n",
       "      <td>False</td>\n",
       "      <td>False</td>\n",
       "      <td>False</td>\n",
       "      <td>False</td>\n",
       "      <td>False</td>\n",
       "      <td>False</td>\n",
       "      <td>False</td>\n",
       "      <td>False</td>\n",
       "      <td>False</td>\n",
       "      <td>...</td>\n",
       "      <td>False</td>\n",
       "      <td>False</td>\n",
       "      <td>False</td>\n",
       "      <td>False</td>\n",
       "      <td>False</td>\n",
       "      <td>False</td>\n",
       "      <td>False</td>\n",
       "      <td>False</td>\n",
       "      <td>False</td>\n",
       "      <td>False</td>\n",
       "    </tr>\n",
       "    <tr>\n",
       "      <th>4</th>\n",
       "      <td>False</td>\n",
       "      <td>False</td>\n",
       "      <td>False</td>\n",
       "      <td>False</td>\n",
       "      <td>False</td>\n",
       "      <td>False</td>\n",
       "      <td>False</td>\n",
       "      <td>False</td>\n",
       "      <td>False</td>\n",
       "      <td>False</td>\n",
       "      <td>...</td>\n",
       "      <td>False</td>\n",
       "      <td>False</td>\n",
       "      <td>False</td>\n",
       "      <td>False</td>\n",
       "      <td>False</td>\n",
       "      <td>False</td>\n",
       "      <td>False</td>\n",
       "      <td>False</td>\n",
       "      <td>False</td>\n",
       "      <td>False</td>\n",
       "    </tr>\n",
       "    <tr>\n",
       "      <th>...</th>\n",
       "      <td>...</td>\n",
       "      <td>...</td>\n",
       "      <td>...</td>\n",
       "      <td>...</td>\n",
       "      <td>...</td>\n",
       "      <td>...</td>\n",
       "      <td>...</td>\n",
       "      <td>...</td>\n",
       "      <td>...</td>\n",
       "      <td>...</td>\n",
       "      <td>...</td>\n",
       "      <td>...</td>\n",
       "      <td>...</td>\n",
       "      <td>...</td>\n",
       "      <td>...</td>\n",
       "      <td>...</td>\n",
       "      <td>...</td>\n",
       "      <td>...</td>\n",
       "      <td>...</td>\n",
       "      <td>...</td>\n",
       "      <td>...</td>\n",
       "    </tr>\n",
       "    <tr>\n",
       "      <th>51285</th>\n",
       "      <td>False</td>\n",
       "      <td>False</td>\n",
       "      <td>False</td>\n",
       "      <td>False</td>\n",
       "      <td>False</td>\n",
       "      <td>False</td>\n",
       "      <td>False</td>\n",
       "      <td>False</td>\n",
       "      <td>False</td>\n",
       "      <td>False</td>\n",
       "      <td>...</td>\n",
       "      <td>False</td>\n",
       "      <td>False</td>\n",
       "      <td>False</td>\n",
       "      <td>False</td>\n",
       "      <td>False</td>\n",
       "      <td>False</td>\n",
       "      <td>False</td>\n",
       "      <td>False</td>\n",
       "      <td>False</td>\n",
       "      <td>False</td>\n",
       "    </tr>\n",
       "    <tr>\n",
       "      <th>51286</th>\n",
       "      <td>False</td>\n",
       "      <td>False</td>\n",
       "      <td>False</td>\n",
       "      <td>False</td>\n",
       "      <td>False</td>\n",
       "      <td>False</td>\n",
       "      <td>False</td>\n",
       "      <td>False</td>\n",
       "      <td>False</td>\n",
       "      <td>False</td>\n",
       "      <td>...</td>\n",
       "      <td>False</td>\n",
       "      <td>False</td>\n",
       "      <td>False</td>\n",
       "      <td>False</td>\n",
       "      <td>False</td>\n",
       "      <td>False</td>\n",
       "      <td>False</td>\n",
       "      <td>False</td>\n",
       "      <td>False</td>\n",
       "      <td>False</td>\n",
       "    </tr>\n",
       "    <tr>\n",
       "      <th>51287</th>\n",
       "      <td>False</td>\n",
       "      <td>False</td>\n",
       "      <td>False</td>\n",
       "      <td>False</td>\n",
       "      <td>False</td>\n",
       "      <td>False</td>\n",
       "      <td>False</td>\n",
       "      <td>False</td>\n",
       "      <td>False</td>\n",
       "      <td>False</td>\n",
       "      <td>...</td>\n",
       "      <td>False</td>\n",
       "      <td>False</td>\n",
       "      <td>False</td>\n",
       "      <td>False</td>\n",
       "      <td>False</td>\n",
       "      <td>False</td>\n",
       "      <td>False</td>\n",
       "      <td>False</td>\n",
       "      <td>False</td>\n",
       "      <td>False</td>\n",
       "    </tr>\n",
       "    <tr>\n",
       "      <th>51288</th>\n",
       "      <td>False</td>\n",
       "      <td>False</td>\n",
       "      <td>False</td>\n",
       "      <td>False</td>\n",
       "      <td>False</td>\n",
       "      <td>False</td>\n",
       "      <td>False</td>\n",
       "      <td>False</td>\n",
       "      <td>False</td>\n",
       "      <td>False</td>\n",
       "      <td>...</td>\n",
       "      <td>False</td>\n",
       "      <td>False</td>\n",
       "      <td>False</td>\n",
       "      <td>False</td>\n",
       "      <td>False</td>\n",
       "      <td>False</td>\n",
       "      <td>False</td>\n",
       "      <td>False</td>\n",
       "      <td>False</td>\n",
       "      <td>False</td>\n",
       "    </tr>\n",
       "    <tr>\n",
       "      <th>51289</th>\n",
       "      <td>False</td>\n",
       "      <td>False</td>\n",
       "      <td>False</td>\n",
       "      <td>False</td>\n",
       "      <td>False</td>\n",
       "      <td>False</td>\n",
       "      <td>False</td>\n",
       "      <td>False</td>\n",
       "      <td>False</td>\n",
       "      <td>False</td>\n",
       "      <td>...</td>\n",
       "      <td>False</td>\n",
       "      <td>False</td>\n",
       "      <td>False</td>\n",
       "      <td>False</td>\n",
       "      <td>False</td>\n",
       "      <td>False</td>\n",
       "      <td>False</td>\n",
       "      <td>False</td>\n",
       "      <td>False</td>\n",
       "      <td>False</td>\n",
       "    </tr>\n",
       "  </tbody>\n",
       "</table>\n",
       "<p>51290 rows × 21 columns</p>\n",
       "</div>"
      ],
      "text/plain": [
       "       order_id  order_date  ship_date  ship_mode  customer_name  segment  \\\n",
       "0         False       False      False      False          False    False   \n",
       "1         False       False      False      False          False    False   \n",
       "2         False       False      False      False          False    False   \n",
       "3         False       False      False      False          False    False   \n",
       "4         False       False      False      False          False    False   \n",
       "...         ...         ...        ...        ...            ...      ...   \n",
       "51285     False       False      False      False          False    False   \n",
       "51286     False       False      False      False          False    False   \n",
       "51287     False       False      False      False          False    False   \n",
       "51288     False       False      False      False          False    False   \n",
       "51289     False       False      False      False          False    False   \n",
       "\n",
       "       state  country  market  region  ...  category  sub_category  \\\n",
       "0      False    False   False   False  ...     False         False   \n",
       "1      False    False   False   False  ...     False         False   \n",
       "2      False    False   False   False  ...     False         False   \n",
       "3      False    False   False   False  ...     False         False   \n",
       "4      False    False   False   False  ...     False         False   \n",
       "...      ...      ...     ...     ...  ...       ...           ...   \n",
       "51285  False    False   False   False  ...     False         False   \n",
       "51286  False    False   False   False  ...     False         False   \n",
       "51287  False    False   False   False  ...     False         False   \n",
       "51288  False    False   False   False  ...     False         False   \n",
       "51289  False    False   False   False  ...     False         False   \n",
       "\n",
       "       product_name  sales  quantity  discount  profit  shipping_cost  \\\n",
       "0             False  False     False     False   False          False   \n",
       "1             False  False     False     False   False          False   \n",
       "2             False  False     False     False   False          False   \n",
       "3             False  False     False     False   False          False   \n",
       "4             False  False     False     False   False          False   \n",
       "...             ...    ...       ...       ...     ...            ...   \n",
       "51285         False  False     False     False   False          False   \n",
       "51286         False  False     False     False   False          False   \n",
       "51287         False  False     False     False   False          False   \n",
       "51288         False  False     False     False   False          False   \n",
       "51289         False  False     False     False   False          False   \n",
       "\n",
       "       order_priority   year  \n",
       "0               False  False  \n",
       "1               False  False  \n",
       "2               False  False  \n",
       "3               False  False  \n",
       "4               False  False  \n",
       "...               ...    ...  \n",
       "51285           False  False  \n",
       "51286           False  False  \n",
       "51287           False  False  \n",
       "51288           False  False  \n",
       "51289           False  False  \n",
       "\n",
       "[51290 rows x 21 columns]"
      ]
     },
     "execution_count": 62,
     "metadata": {},
     "output_type": "execute_result"
    }
   ],
   "source": [
    "df.isnull()"
   ]
  },
  {
   "cell_type": "code",
   "execution_count": 64,
   "id": "28d8f8ad",
   "metadata": {},
   "outputs": [
    {
     "data": {
      "text/plain": [
       "<AxesSubplot:>"
      ]
     },
     "execution_count": 64,
     "metadata": {},
     "output_type": "execute_result"
    },
    {
     "data": {
      "image/png": "[encoded data removed]",
      "text/plain": [
       "<Figure size 640x480 with 2 Axes>"
      ]
     },
     "metadata": {},
     "output_type": "display_data"
    }
   ],
   "source": [
    "sns.heatmap(df.isnull())"
   ]
  },
  {
   "cell_type": "markdown",
   "id": "d9c955d2",
   "metadata": {},
   "source": [
    "# It shows no.of duplicate rows present in the data frame"
   ]
  },
  {
   "cell_type": "code",
   "execution_count": 66,
   "id": "3d67767c",
   "metadata": {},
   "outputs": [
    {
     "data": {
      "text/plain": [
       "0"
      ]
     },
     "execution_count": 66,
     "metadata": {},
     "output_type": "execute_result"
    }
   ],
   "source": [
    "df.duplicated().sum()"
   ]
  },
  {
   "cell_type": "code",
   "execution_count": 113,
   "id": "a1429274",
   "metadata": {},
   "outputs": [],
   "source": [
    "df['order_date']=pd.to_datetime(df['order_date'])\n",
    "df['ship_date']=pd.to_datetime(df['ship_date'])\n",
    "df['order_month']=df['order_date'].dt.month\n",
    "df['order_year']=df['order_date'].dt.year\n",
    "df['order day of week']=df['order_date'].dt.dayofweek"
   ]
  },
  {
   "cell_type": "code",
   "execution_count": 114,
   "id": "aaa3a704",
   "metadata": {},
   "outputs": [],
   "source": [
    "sales_by_year=df.groupby('order_year')['sales'].sum().reset_index()"
   ]
  },
  {
   "cell_type": "code",
   "execution_count": 115,
   "id": "a81ec6b0",
   "metadata": {},
   "outputs": [
    {
     "data": {
      "text/html": [
       "<div>\n",
       "<style scoped>\n",
       "    .dataframe tbody tr th:only-of-type {\n",
       "        vertical-align: middle;\n",
       "    }\n",
       "\n",
       "    .dataframe tbody tr th {\n",
       "        vertical-align: top;\n",
       "    }\n",
       "\n",
       "    .dataframe thead th {\n",
       "        text-align: right;\n",
       "    }\n",
       "</style>\n",
       "<table border=\"1\" class=\"dataframe\">\n",
       "  <thead>\n",
       "    <tr style=\"text-align: right;\">\n",
       "      <th></th>\n",
       "      <th>order_year</th>\n",
       "      <th>sales</th>\n",
       "    </tr>\n",
       "  </thead>\n",
       "  <tbody>\n",
       "    <tr>\n",
       "      <th>0</th>\n",
       "      <td>2011</td>\n",
       "      <td>2.259451e+06</td>\n",
       "    </tr>\n",
       "    <tr>\n",
       "      <th>1</th>\n",
       "      <td>2012</td>\n",
       "      <td>2.677439e+06</td>\n",
       "    </tr>\n",
       "    <tr>\n",
       "      <th>2</th>\n",
       "      <td>2013</td>\n",
       "      <td>3.405746e+06</td>\n",
       "    </tr>\n",
       "    <tr>\n",
       "      <th>3</th>\n",
       "      <td>2014</td>\n",
       "      <td>4.299866e+06</td>\n",
       "    </tr>\n",
       "  </tbody>\n",
       "</table>\n",
       "</div>"
      ],
      "text/plain": [
       "   order_year         sales\n",
       "0        2011  2.259451e+06\n",
       "1        2012  2.677439e+06\n",
       "2        2013  3.405746e+06\n",
       "3        2014  4.299866e+06"
      ]
     },
     "execution_count": 115,
     "metadata": {},
     "output_type": "execute_result"
    }
   ],
   "source": [
    "sales_by_year"
   ]
  },
  {
   "cell_type": "code",
   "execution_count": 116,
   "id": "b4ecce31",
   "metadata": {},
   "outputs": [
    {
     "data": {
      "image/png": "[encoded data removed]",
      "text/plain": [
       "<Figure size 640x480 with 1 Axes>"
      ]
     },
     "metadata": {},
     "output_type": "display_data"
    }
   ],
   "source": [
    "plt.bar(sales_by_year['order_year'],sales_by_year['sales'])\n",
    "plt.show()"
   ]
  },
  {
   "cell_type": "code",
   "execution_count": 118,
   "id": "6e7832ef",
   "metadata": {},
   "outputs": [],
   "source": [
    "sales_by_month=df.groupby('order_month')['sales'].sum().reset_index()"
   ]
  },
  {
   "cell_type": "code",
   "execution_count": 137,
   "id": "6724882c",
   "metadata": {},
   "outputs": [
    {
     "data": {
      "text/html": [
       "<div>\n",
       "<style scoped>\n",
       "    .dataframe tbody tr th:only-of-type {\n",
       "        vertical-align: middle;\n",
       "    }\n",
       "\n",
       "    .dataframe tbody tr th {\n",
       "        vertical-align: top;\n",
       "    }\n",
       "\n",
       "    .dataframe thead th {\n",
       "        text-align: right;\n",
       "    }\n",
       "</style>\n",
       "<table border=\"1\" class=\"dataframe\">\n",
       "  <thead>\n",
       "    <tr style=\"text-align: right;\">\n",
       "      <th></th>\n",
       "      <th>order_month</th>\n",
       "      <th>sales</th>\n",
       "    </tr>\n",
       "  </thead>\n",
       "  <tbody>\n",
       "    <tr>\n",
       "      <th>11</th>\n",
       "      <td>12</td>\n",
       "      <td>1.580781e+06</td>\n",
       "    </tr>\n",
       "    <tr>\n",
       "      <th>10</th>\n",
       "      <td>11</td>\n",
       "      <td>1.551277e+06</td>\n",
       "    </tr>\n",
       "    <tr>\n",
       "      <th>8</th>\n",
       "      <td>9</td>\n",
       "      <td>1.437380e+06</td>\n",
       "    </tr>\n",
       "    <tr>\n",
       "      <th>7</th>\n",
       "      <td>8</td>\n",
       "      <td>1.293833e+06</td>\n",
       "    </tr>\n",
       "    <tr>\n",
       "      <th>5</th>\n",
       "      <td>6</td>\n",
       "      <td>1.269717e+06</td>\n",
       "    </tr>\n",
       "    <tr>\n",
       "      <th>9</th>\n",
       "      <td>10</td>\n",
       "      <td>1.168184e+06</td>\n",
       "    </tr>\n",
       "    <tr>\n",
       "      <th>4</th>\n",
       "      <td>5</td>\n",
       "      <td>9.040123e+05</td>\n",
       "    </tr>\n",
       "    <tr>\n",
       "      <th>2</th>\n",
       "      <td>3</td>\n",
       "      <td>7.705009e+05</td>\n",
       "    </tr>\n",
       "    <tr>\n",
       "      <th>6</th>\n",
       "      <td>7</td>\n",
       "      <td>7.493818e+05</td>\n",
       "    </tr>\n",
       "    <tr>\n",
       "      <th>3</th>\n",
       "      <td>4</td>\n",
       "      <td>6.985612e+05</td>\n",
       "    </tr>\n",
       "    <tr>\n",
       "      <th>0</th>\n",
       "      <td>1</td>\n",
       "      <td>6.751337e+05</td>\n",
       "    </tr>\n",
       "    <tr>\n",
       "      <th>1</th>\n",
       "      <td>2</td>\n",
       "      <td>5.437394e+05</td>\n",
       "    </tr>\n",
       "  </tbody>\n",
       "</table>\n",
       "</div>"
      ],
      "text/plain": [
       "    order_month         sales\n",
       "11           12  1.580781e+06\n",
       "10           11  1.551277e+06\n",
       "8             9  1.437380e+06\n",
       "7             8  1.293833e+06\n",
       "5             6  1.269717e+06\n",
       "9            10  1.168184e+06\n",
       "4             5  9.040123e+05\n",
       "2             3  7.705009e+05\n",
       "6             7  7.493818e+05\n",
       "3             4  6.985612e+05\n",
       "0             1  6.751337e+05\n",
       "1             2  5.437394e+05"
      ]
     },
     "execution_count": 137,
     "metadata": {},
     "output_type": "execute_result"
    }
   ],
   "source": [
    "sales_by_month.sort_values('sales',ascending=False)"
   ]
  },
  {
   "cell_type": "code",
   "execution_count": 149,
   "id": "ef1fe772",
   "metadata": {},
   "outputs": [
    {
     "data": {
      "image/png": "[encoded data removed]",
      "text/plain": [
       "<Figure size 640x480 with 1 Axes>"
      ]
     },
     "metadata": {},
     "output_type": "display_data"
    }
   ],
   "source": [
    "#create a barplot to see the height sales month\n",
    "sns.barplot(data=sales_by_month,x='order_month',y='sales')\n",
    "plt.title('Monthly Sales Analysis')\n",
    "plt.tight_layout()\n",
    "plt.show()"
   ]
  },
  {
   "cell_type": "code",
   "execution_count": 150,
   "id": "c7f04a18",
   "metadata": {},
   "outputs": [],
   "source": [
    "sales_by_category=df.groupby('category')['sales'].sum().reset_index()"
   ]
  },
  {
   "cell_type": "code",
   "execution_count": 151,
   "id": "576031bf",
   "metadata": {},
   "outputs": [
    {
     "data": {
      "text/html": [
       "<div>\n",
       "<style scoped>\n",
       "    .dataframe tbody tr th:only-of-type {\n",
       "        vertical-align: middle;\n",
       "    }\n",
       "\n",
       "    .dataframe tbody tr th {\n",
       "        vertical-align: top;\n",
       "    }\n",
       "\n",
       "    .dataframe thead th {\n",
       "        text-align: right;\n",
       "    }\n",
       "</style>\n",
       "<table border=\"1\" class=\"dataframe\">\n",
       "  <thead>\n",
       "    <tr style=\"text-align: right;\">\n",
       "      <th></th>\n",
       "      <th>category</th>\n",
       "      <th>sales</th>\n",
       "    </tr>\n",
       "  </thead>\n",
       "  <tbody>\n",
       "    <tr>\n",
       "      <th>0</th>\n",
       "      <td>Furniture</td>\n",
       "      <td>4.110874e+06</td>\n",
       "    </tr>\n",
       "    <tr>\n",
       "      <th>1</th>\n",
       "      <td>Office Supplies</td>\n",
       "      <td>3.787070e+06</td>\n",
       "    </tr>\n",
       "    <tr>\n",
       "      <th>2</th>\n",
       "      <td>Technology</td>\n",
       "      <td>4.744557e+06</td>\n",
       "    </tr>\n",
       "  </tbody>\n",
       "</table>\n",
       "</div>"
      ],
      "text/plain": [
       "          category         sales\n",
       "0        Furniture  4.110874e+06\n",
       "1  Office Supplies  3.787070e+06\n",
       "2       Technology  4.744557e+06"
      ]
     },
     "execution_count": 151,
     "metadata": {},
     "output_type": "execute_result"
    }
   ],
   "source": [
    "sales_by_category"
   ]
  },
  {
   "cell_type": "code",
   "execution_count": 152,
   "id": "340b5a7e",
   "metadata": {},
   "outputs": [
    {
     "data": {
      "image/png": "[encoded data removed]",
      "text/plain": [
       "<Figure size 640x480 with 1 Axes>"
      ]
     },
     "metadata": {},
     "output_type": "display_data"
    }
   ],
   "source": [
    "#create a barplot to know which category has highest sales\n",
    "sns.barplot(data=sales_by_category,x='category',y='sales')\n",
    "plt.title(\"Sales Analysis By Category\")\n",
    "plt.show()"
   ]
  },
  {
   "cell_type": "code",
   "execution_count": 153,
   "id": "708992bf",
   "metadata": {},
   "outputs": [],
   "source": [
    "sales_by_sub_category=df.groupby('sub_category')['sales'].sum().reset_index()"
   ]
  },
  {
   "cell_type": "code",
   "execution_count": 154,
   "id": "f879e37e",
   "metadata": {},
   "outputs": [
    {
     "data": {
      "text/html": [
       "<div>\n",
       "<style scoped>\n",
       "    .dataframe tbody tr th:only-of-type {\n",
       "        vertical-align: middle;\n",
       "    }\n",
       "\n",
       "    .dataframe tbody tr th {\n",
       "        vertical-align: top;\n",
       "    }\n",
       "\n",
       "    .dataframe thead th {\n",
       "        text-align: right;\n",
       "    }\n",
       "</style>\n",
       "<table border=\"1\" class=\"dataframe\">\n",
       "  <thead>\n",
       "    <tr style=\"text-align: right;\">\n",
       "      <th></th>\n",
       "      <th>sub_category</th>\n",
       "      <th>sales</th>\n",
       "    </tr>\n",
       "  </thead>\n",
       "  <tbody>\n",
       "    <tr>\n",
       "      <th>0</th>\n",
       "      <td>Accessories</td>\n",
       "      <td>7.492370e+05</td>\n",
       "    </tr>\n",
       "    <tr>\n",
       "      <th>1</th>\n",
       "      <td>Appliances</td>\n",
       "      <td>1.011064e+06</td>\n",
       "    </tr>\n",
       "    <tr>\n",
       "      <th>2</th>\n",
       "      <td>Art</td>\n",
       "      <td>3.720920e+05</td>\n",
       "    </tr>\n",
       "    <tr>\n",
       "      <th>3</th>\n",
       "      <td>Binders</td>\n",
       "      <td>4.619115e+05</td>\n",
       "    </tr>\n",
       "    <tr>\n",
       "      <th>4</th>\n",
       "      <td>Bookcases</td>\n",
       "      <td>1.466572e+06</td>\n",
       "    </tr>\n",
       "    <tr>\n",
       "      <th>5</th>\n",
       "      <td>Chairs</td>\n",
       "      <td>1.501682e+06</td>\n",
       "    </tr>\n",
       "    <tr>\n",
       "      <th>6</th>\n",
       "      <td>Copiers</td>\n",
       "      <td>1.509436e+06</td>\n",
       "    </tr>\n",
       "    <tr>\n",
       "      <th>7</th>\n",
       "      <td>Envelopes</td>\n",
       "      <td>1.709043e+05</td>\n",
       "    </tr>\n",
       "    <tr>\n",
       "      <th>8</th>\n",
       "      <td>Fasteners</td>\n",
       "      <td>8.324232e+04</td>\n",
       "    </tr>\n",
       "    <tr>\n",
       "      <th>9</th>\n",
       "      <td>Furnishings</td>\n",
       "      <td>3.855783e+05</td>\n",
       "    </tr>\n",
       "    <tr>\n",
       "      <th>10</th>\n",
       "      <td>Labels</td>\n",
       "      <td>7.340403e+04</td>\n",
       "    </tr>\n",
       "    <tr>\n",
       "      <th>11</th>\n",
       "      <td>Machines</td>\n",
       "      <td>7.790601e+05</td>\n",
       "    </tr>\n",
       "    <tr>\n",
       "      <th>12</th>\n",
       "      <td>Paper</td>\n",
       "      <td>2.442917e+05</td>\n",
       "    </tr>\n",
       "    <tr>\n",
       "      <th>13</th>\n",
       "      <td>Phones</td>\n",
       "      <td>1.706824e+06</td>\n",
       "    </tr>\n",
       "    <tr>\n",
       "      <th>14</th>\n",
       "      <td>Storage</td>\n",
       "      <td>1.127086e+06</td>\n",
       "    </tr>\n",
       "    <tr>\n",
       "      <th>15</th>\n",
       "      <td>Supplies</td>\n",
       "      <td>2.430742e+05</td>\n",
       "    </tr>\n",
       "    <tr>\n",
       "      <th>16</th>\n",
       "      <td>Tables</td>\n",
       "      <td>7.570419e+05</td>\n",
       "    </tr>\n",
       "  </tbody>\n",
       "</table>\n",
       "</div>"
      ],
      "text/plain": [
       "   sub_category         sales\n",
       "0   Accessories  7.492370e+05\n",
       "1    Appliances  1.011064e+06\n",
       "2           Art  3.720920e+05\n",
       "3       Binders  4.619115e+05\n",
       "4     Bookcases  1.466572e+06\n",
       "5        Chairs  1.501682e+06\n",
       "6       Copiers  1.509436e+06\n",
       "7     Envelopes  1.709043e+05\n",
       "8     Fasteners  8.324232e+04\n",
       "9   Furnishings  3.855783e+05\n",
       "10       Labels  7.340403e+04\n",
       "11     Machines  7.790601e+05\n",
       "12        Paper  2.442917e+05\n",
       "13       Phones  1.706824e+06\n",
       "14      Storage  1.127086e+06\n",
       "15     Supplies  2.430742e+05\n",
       "16       Tables  7.570419e+05"
      ]
     },
     "execution_count": 154,
     "metadata": {},
     "output_type": "execute_result"
    }
   ],
   "source": [
    "sales_by_sub_category"
   ]
  },
  {
   "cell_type": "code",
   "execution_count": 158,
   "id": "99b3dabd",
   "metadata": {},
   "outputs": [
    {
     "data": {
      "image/png": "[encoded data removed]",
      "text/plain": [
       "<Figure size 1400x1000 with 1 Axes>"
      ]
     },
     "metadata": {},
     "output_type": "display_data"
    }
   ],
   "source": [
    "#create a barplot to see which sub category has most sales value\n",
    "plt.figure(figsize=(14,10))\n",
    "sns.barplot(data=sales_by_sub_category,x='sub_category',y='sales')\n",
    "plt.tight_layout()\n",
    "plt.title(\"Sales Analysis By Sub_Category\")\n",
    "plt.show()"
   ]
  },
  {
   "cell_type": "code",
   "execution_count": 159,
   "id": "c60d0832",
   "metadata": {},
   "outputs": [],
   "source": [
    "profit_by_sub_category=df.groupby('sub_category')['profit'].sum().reset_index()"
   ]
  },
  {
   "cell_type": "code",
   "execution_count": 160,
   "id": "e3dbed21",
   "metadata": {},
   "outputs": [
    {
     "data": {
      "text/html": [
       "<div>\n",
       "<style scoped>\n",
       "    .dataframe tbody tr th:only-of-type {\n",
       "        vertical-align: middle;\n",
       "    }\n",
       "\n",
       "    .dataframe tbody tr th {\n",
       "        vertical-align: top;\n",
       "    }\n",
       "\n",
       "    .dataframe thead th {\n",
       "        text-align: right;\n",
       "    }\n",
       "</style>\n",
       "<table border=\"1\" class=\"dataframe\">\n",
       "  <thead>\n",
       "    <tr style=\"text-align: right;\">\n",
       "      <th></th>\n",
       "      <th>sub_category</th>\n",
       "      <th>profit</th>\n",
       "    </tr>\n",
       "  </thead>\n",
       "  <tbody>\n",
       "    <tr>\n",
       "      <th>0</th>\n",
       "      <td>Accessories</td>\n",
       "      <td>129626.30620</td>\n",
       "    </tr>\n",
       "    <tr>\n",
       "      <th>1</th>\n",
       "      <td>Appliances</td>\n",
       "      <td>141680.58940</td>\n",
       "    </tr>\n",
       "    <tr>\n",
       "      <th>2</th>\n",
       "      <td>Art</td>\n",
       "      <td>57953.91090</td>\n",
       "    </tr>\n",
       "    <tr>\n",
       "      <th>3</th>\n",
       "      <td>Binders</td>\n",
       "      <td>72449.84600</td>\n",
       "    </tr>\n",
       "    <tr>\n",
       "      <th>4</th>\n",
       "      <td>Bookcases</td>\n",
       "      <td>161924.41950</td>\n",
       "    </tr>\n",
       "    <tr>\n",
       "      <th>5</th>\n",
       "      <td>Chairs</td>\n",
       "      <td>141973.79750</td>\n",
       "    </tr>\n",
       "    <tr>\n",
       "      <th>6</th>\n",
       "      <td>Copiers</td>\n",
       "      <td>258567.54818</td>\n",
       "    </tr>\n",
       "    <tr>\n",
       "      <th>7</th>\n",
       "      <td>Envelopes</td>\n",
       "      <td>29601.11630</td>\n",
       "    </tr>\n",
       "    <tr>\n",
       "      <th>8</th>\n",
       "      <td>Fasteners</td>\n",
       "      <td>11525.42410</td>\n",
       "    </tr>\n",
       "    <tr>\n",
       "      <th>9</th>\n",
       "      <td>Furnishings</td>\n",
       "      <td>46967.42550</td>\n",
       "    </tr>\n",
       "    <tr>\n",
       "      <th>10</th>\n",
       "      <td>Labels</td>\n",
       "      <td>15010.51200</td>\n",
       "    </tr>\n",
       "    <tr>\n",
       "      <th>11</th>\n",
       "      <td>Machines</td>\n",
       "      <td>58867.87300</td>\n",
       "    </tr>\n",
       "    <tr>\n",
       "      <th>12</th>\n",
       "      <td>Paper</td>\n",
       "      <td>59207.68270</td>\n",
       "    </tr>\n",
       "    <tr>\n",
       "      <th>13</th>\n",
       "      <td>Phones</td>\n",
       "      <td>216717.00580</td>\n",
       "    </tr>\n",
       "    <tr>\n",
       "      <th>14</th>\n",
       "      <td>Storage</td>\n",
       "      <td>108461.48980</td>\n",
       "    </tr>\n",
       "    <tr>\n",
       "      <th>15</th>\n",
       "      <td>Supplies</td>\n",
       "      <td>22583.26310</td>\n",
       "    </tr>\n",
       "    <tr>\n",
       "      <th>16</th>\n",
       "      <td>Tables</td>\n",
       "      <td>-64083.38870</td>\n",
       "    </tr>\n",
       "  </tbody>\n",
       "</table>\n",
       "</div>"
      ],
      "text/plain": [
       "   sub_category        profit\n",
       "0   Accessories  129626.30620\n",
       "1    Appliances  141680.58940\n",
       "2           Art   57953.91090\n",
       "3       Binders   72449.84600\n",
       "4     Bookcases  161924.41950\n",
       "5        Chairs  141973.79750\n",
       "6       Copiers  258567.54818\n",
       "7     Envelopes   29601.11630\n",
       "8     Fasteners   11525.42410\n",
       "9   Furnishings   46967.42550\n",
       "10       Labels   15010.51200\n",
       "11     Machines   58867.87300\n",
       "12        Paper   59207.68270\n",
       "13       Phones  216717.00580\n",
       "14      Storage  108461.48980\n",
       "15     Supplies   22583.26310\n",
       "16       Tables  -64083.38870"
      ]
     },
     "execution_count": 160,
     "metadata": {},
     "output_type": "execute_result"
    }
   ],
   "source": [
    "profit_by_sub_category"
   ]
  },
  {
   "cell_type": "code",
   "execution_count": 164,
   "id": "8dba92f4",
   "metadata": {},
   "outputs": [
    {
     "data": {
      "image/png": "[encoded data removed]",
      "text/plain": [
       "<Figure size 1600x1000 with 1 Axes>"
      ]
     },
     "metadata": {},
     "output_type": "display_data"
    }
   ],
   "source": [
    "#create a barplot to see which sub-category has more profit\n",
    "plt.figure(figsize=(16,10))\n",
    "sns.barplot(data=profit_by_sub_category,x='sub_category',y='profit')\n",
    "plt.title(\"Profit Analysis Of Sub-Catogery\")\n",
    "plt.tight_layout()\n",
    "plt.show()"
   ]
  },
  {
   "cell_type": "code",
   "execution_count": 169,
   "id": "1e7c4d01",
   "metadata": {},
   "outputs": [
    {
     "data": {
      "text/plain": [
       "array(['Consumer', 'Home Office', 'Corporate'], dtype=object)"
      ]
     },
     "execution_count": 169,
     "metadata": {},
     "output_type": "execute_result"
    }
   ],
   "source": [
    "df['segment'].unique()"
   ]
  },
  {
   "cell_type": "code",
   "execution_count": 170,
   "id": "79ebcf2f",
   "metadata": {},
   "outputs": [],
   "source": [
    "customer_segment=df.groupby('segment')['sales'].sum().reset_index()"
   ]
  },
  {
   "cell_type": "code",
   "execution_count": 172,
   "id": "41a2580e",
   "metadata": {},
   "outputs": [
    {
     "data": {
      "text/html": [
       "<div>\n",
       "<style scoped>\n",
       "    .dataframe tbody tr th:only-of-type {\n",
       "        vertical-align: middle;\n",
       "    }\n",
       "\n",
       "    .dataframe tbody tr th {\n",
       "        vertical-align: top;\n",
       "    }\n",
       "\n",
       "    .dataframe thead th {\n",
       "        text-align: right;\n",
       "    }\n",
       "</style>\n",
       "<table border=\"1\" class=\"dataframe\">\n",
       "  <thead>\n",
       "    <tr style=\"text-align: right;\">\n",
       "      <th></th>\n",
       "      <th>segment</th>\n",
       "      <th>sales</th>\n",
       "    </tr>\n",
       "  </thead>\n",
       "  <tbody>\n",
       "    <tr>\n",
       "      <th>0</th>\n",
       "      <td>Consumer</td>\n",
       "      <td>6.507949e+06</td>\n",
       "    </tr>\n",
       "    <tr>\n",
       "      <th>1</th>\n",
       "      <td>Corporate</td>\n",
       "      <td>3.824698e+06</td>\n",
       "    </tr>\n",
       "    <tr>\n",
       "      <th>2</th>\n",
       "      <td>Home Office</td>\n",
       "      <td>2.309855e+06</td>\n",
       "    </tr>\n",
       "  </tbody>\n",
       "</table>\n",
       "</div>"
      ],
      "text/plain": [
       "       segment         sales\n",
       "0     Consumer  6.507949e+06\n",
       "1    Corporate  3.824698e+06\n",
       "2  Home Office  2.309855e+06"
      ]
     },
     "execution_count": 172,
     "metadata": {},
     "output_type": "execute_result"
    }
   ],
   "source": [
    "customer_segment"
   ]
  },
  {
   "cell_type": "code",
   "execution_count": 179,
   "id": "c5543fe0",
   "metadata": {},
   "outputs": [
    {
     "data": {
      "image/png": "[encoded data removed]",
      "text/plain": [
       "<Figure size 640x480 with 1 Axes>"
      ]
     },
     "metadata": {},
     "output_type": "display_data"
    }
   ],
   "source": [
    "#create a plot to know which segment has more sales\n",
    "sns.barplot(data=customer_segment,x='segment',y='sales')\n",
    "plt.title('Sales Analysis By Customer_Segment')\n",
    "plt.show()"
   ]
  },
  {
   "cell_type": "code",
   "execution_count": 180,
   "id": "a9de7db4",
   "metadata": {},
   "outputs": [
    {
     "data": {
      "text/html": [
       "<div>\n",
       "<style scoped>\n",
       "    .dataframe tbody tr th:only-of-type {\n",
       "        vertical-align: middle;\n",
       "    }\n",
       "\n",
       "    .dataframe tbody tr th {\n",
       "        vertical-align: top;\n",
       "    }\n",
       "\n",
       "    .dataframe thead th {\n",
       "        text-align: right;\n",
       "    }\n",
       "</style>\n",
       "<table border=\"1\" class=\"dataframe\">\n",
       "  <thead>\n",
       "    <tr style=\"text-align: right;\">\n",
       "      <th></th>\n",
       "      <th>segment</th>\n",
       "      <th>profit</th>\n",
       "    </tr>\n",
       "  </thead>\n",
       "  <tbody>\n",
       "    <tr>\n",
       "      <th>0</th>\n",
       "      <td>Consumer</td>\n",
       "      <td>749239.78206</td>\n",
       "    </tr>\n",
       "    <tr>\n",
       "      <th>1</th>\n",
       "      <td>Corporate</td>\n",
       "      <td>442785.85866</td>\n",
       "    </tr>\n",
       "    <tr>\n",
       "      <th>2</th>\n",
       "      <td>Home Office</td>\n",
       "      <td>277009.18056</td>\n",
       "    </tr>\n",
       "  </tbody>\n",
       "</table>\n",
       "</div>"
      ],
      "text/plain": [
       "       segment        profit\n",
       "0     Consumer  749239.78206\n",
       "1    Corporate  442785.85866\n",
       "2  Home Office  277009.18056"
      ]
     },
     "execution_count": 180,
     "metadata": {},
     "output_type": "execute_result"
    }
   ],
   "source": [
    "customer_segment_profit=df.groupby('segment')['profit'].sum().reset_index()\n",
    "customer_segment_profit"
   ]
  },
  {
   "cell_type": "code",
   "execution_count": 181,
   "id": "e78110be",
   "metadata": {},
   "outputs": [
    {
     "data": {
      "image/png": "[encoded data removed]",
      "text/plain": [
       "<Figure size 640x480 with 1 Axes>"
      ]
     },
     "metadata": {},
     "output_type": "display_data"
    }
   ],
   "source": [
    "#create a plot to know which segment has more profit\n",
    "sns.barplot(data=customer_segment_profit,x='segment',y='profit')\n",
    "plt.title('Profit Analysis By Customer_Segment')\n",
    "plt.show()"
   ]
  },
  {
   "cell_type": "code",
   "execution_count": 183,
   "id": "5757fb80",
   "metadata": {},
   "outputs": [],
   "source": [
    "sales_by_country=df.groupby('country')['sales'].sum().reset_index()"
   ]
  },
  {
   "cell_type": "code",
   "execution_count": 184,
   "id": "e0218f0e",
   "metadata": {},
   "outputs": [
    {
     "data": {
      "text/html": [
       "<div>\n",
       "<style scoped>\n",
       "    .dataframe tbody tr th:only-of-type {\n",
       "        vertical-align: middle;\n",
       "    }\n",
       "\n",
       "    .dataframe tbody tr th {\n",
       "        vertical-align: top;\n",
       "    }\n",
       "\n",
       "    .dataframe thead th {\n",
       "        text-align: right;\n",
       "    }\n",
       "</style>\n",
       "<table border=\"1\" class=\"dataframe\">\n",
       "  <thead>\n",
       "    <tr style=\"text-align: right;\">\n",
       "      <th></th>\n",
       "      <th>country</th>\n",
       "      <th>sales</th>\n",
       "    </tr>\n",
       "  </thead>\n",
       "  <tbody>\n",
       "    <tr>\n",
       "      <th>0</th>\n",
       "      <td>Afghanistan</td>\n",
       "      <td>21673.32000</td>\n",
       "    </tr>\n",
       "    <tr>\n",
       "      <th>1</th>\n",
       "      <td>Albania</td>\n",
       "      <td>3888.12000</td>\n",
       "    </tr>\n",
       "    <tr>\n",
       "      <th>2</th>\n",
       "      <td>Algeria</td>\n",
       "      <td>36091.59000</td>\n",
       "    </tr>\n",
       "    <tr>\n",
       "      <th>3</th>\n",
       "      <td>Angola</td>\n",
       "      <td>25554.00000</td>\n",
       "    </tr>\n",
       "    <tr>\n",
       "      <th>4</th>\n",
       "      <td>Argentina</td>\n",
       "      <td>57511.78328</td>\n",
       "    </tr>\n",
       "    <tr>\n",
       "      <th>...</th>\n",
       "      <td>...</td>\n",
       "      <td>...</td>\n",
       "    </tr>\n",
       "    <tr>\n",
       "      <th>142</th>\n",
       "      <td>Venezuela</td>\n",
       "      <td>26587.82956</td>\n",
       "    </tr>\n",
       "    <tr>\n",
       "      <th>143</th>\n",
       "      <td>Vietnam</td>\n",
       "      <td>65800.19940</td>\n",
       "    </tr>\n",
       "    <tr>\n",
       "      <th>144</th>\n",
       "      <td>Yemen</td>\n",
       "      <td>2465.71200</td>\n",
       "    </tr>\n",
       "    <tr>\n",
       "      <th>145</th>\n",
       "      <td>Zambia</td>\n",
       "      <td>26035.50000</td>\n",
       "    </tr>\n",
       "    <tr>\n",
       "      <th>146</th>\n",
       "      <td>Zimbabwe</td>\n",
       "      <td>3765.10500</td>\n",
       "    </tr>\n",
       "  </tbody>\n",
       "</table>\n",
       "<p>147 rows × 2 columns</p>\n",
       "</div>"
      ],
      "text/plain": [
       "         country        sales\n",
       "0    Afghanistan  21673.32000\n",
       "1        Albania   3888.12000\n",
       "2        Algeria  36091.59000\n",
       "3         Angola  25554.00000\n",
       "4      Argentina  57511.78328\n",
       "..           ...          ...\n",
       "142    Venezuela  26587.82956\n",
       "143      Vietnam  65800.19940\n",
       "144        Yemen   2465.71200\n",
       "145       Zambia  26035.50000\n",
       "146     Zimbabwe   3765.10500\n",
       "\n",
       "[147 rows x 2 columns]"
      ]
     },
     "execution_count": 184,
     "metadata": {},
     "output_type": "execute_result"
    }
   ],
   "source": [
    "sales_by_country"
   ]
  },
  {
   "cell_type": "code",
   "execution_count": 205,
   "id": "c4625561",
   "metadata": {},
   "outputs": [],
   "source": [
    "sales_by_country=sales_by_country.head(8)"
   ]
  },
  {
   "cell_type": "code",
   "execution_count": 207,
   "id": "15fe4040",
   "metadata": {},
   "outputs": [
    {
     "data": {
      "image/png": "[encoded data removed]",
      "text/plain": [
       "<Figure size 1000x800 with 1 Axes>"
      ]
     },
     "metadata": {},
     "output_type": "display_data"
    }
   ],
   "source": [
    "#create plot to know visual representation of sales with respect to country\n",
    "plt.figure(figsize=(10,8))\n",
    "sns.barplot(data=sales_by_country,x='country',y='sales')\n",
    "plt.title('Sales Analysis By Country')\n",
    "plt.show()"
   ]
  },
  {
   "cell_type": "code",
   "execution_count": null,
   "id": "96ae2e50",
   "metadata": {},
   "outputs": [],
   "source": []
  }
 ],
 "metadata": {
  "kernelspec": {
   "display_name": "Python 3 (ipykernel)",
   "language": "python",
   "name": "python3"
  },
  "language_info": {
   "codemirror_mode": {
    "name": "ipython",
    "version": 3
   },
   "file_extension": ".py",
   "mimetype": "text/x-python",
   "name": "python",
   "nbconvert_exporter": "python",
   "pygments_lexer": "ipython3",
   "version": "3.9.13"
  }
 },
 "nbformat": 4,
 "nbformat_minor": 5
}
